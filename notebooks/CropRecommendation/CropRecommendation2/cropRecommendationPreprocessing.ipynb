{
 "cells": [
  {
   "cell_type": "code",
   "execution_count": 1,
   "metadata": {},
   "outputs": [],
   "source": [
    "# Import Libraries\n",
    "import numpy as np \n",
    "import pandas as pd"
   ]
  },
  {
   "cell_type": "code",
   "execution_count": 2,
   "metadata": {},
   "outputs": [],
   "source": [
    "# Define DataFrame\n",
    "cropProductionMinified=pd.read_csv(\"../../../data/CropProductionMinified.csv\")\n",
    "cropRecommentationA2=pd.read_csv(\"../../../data/CropRecommendationApproach2.csv\")"
   ]
  },
  {
   "cell_type": "code",
   "execution_count": 3,
   "metadata": {},
   "outputs": [
    {
     "name": "stdout",
     "output_type": "stream",
     "text": [
      "Crop Production Unique Crops:  ['palay' 'mais']\n",
      "Crop Recommendation Unique Crops:  ['palay' 'mais']\n"
     ]
    }
   ],
   "source": [
    "# Crop Production Unique\n",
    "cpUnique=pd.unique(cropProductionMinified[\"Crop\"].str.lower())\n",
    "# Crop Recommendation Unique\n",
    "crUnique=pd.unique(cropRecommentationA2[\"label\"].str.lower())\n",
    "print(\"Crop Production Unique Crops: \",cpUnique)\n",
    "print(\"Crop Recommendation Unique Crops: \",crUnique)"
   ]
  },
  {
   "cell_type": "code",
   "execution_count": 4,
   "metadata": {},
   "outputs": [],
   "source": [
    "# Drop unnecessary Crops\n",
    "cropRecommentationA2=cropRecommentationA2[cropRecommentationA2[\"label\"].str.lower().isin(cpUnique)].reset_index(drop=True)"
   ]
  },
  {
   "cell_type": "code",
   "execution_count": 5,
   "metadata": {},
   "outputs": [],
   "source": [
    "# Drop ph\n",
    "cropRecommentationA2=cropRecommentationA2.drop(columns=['ph'])"
   ]
  },
  {
   "cell_type": "code",
   "execution_count": 6,
   "metadata": {},
   "outputs": [
    {
     "data": {
      "text/plain": [
       "N              False\n",
       "P              False\n",
       "K              False\n",
       "temperature    False\n",
       "humidity       False\n",
       "rainfall       False\n",
       "label          False\n",
       "dtype: bool"
      ]
     },
     "execution_count": 6,
     "metadata": {},
     "output_type": "execute_result"
    }
   ],
   "source": [
    "# Check for NULL values\n",
    "cropRecommentationA2.isna().any()"
   ]
  },
  {
   "cell_type": "code",
   "execution_count": 7,
   "metadata": {},
   "outputs": [
    {
     "data": {
      "text/plain": [
       "N              False\n",
       "P              False\n",
       "K              False\n",
       "temperature    False\n",
       "humidity       False\n",
       "rainfall       False\n",
       "label          False\n",
       "dtype: bool"
      ]
     },
     "execution_count": 7,
     "metadata": {},
     "output_type": "execute_result"
    }
   ],
   "source": [
    "# Check for na values\n",
    "cropRecommentationA2.isnull().any()"
   ]
  },
  {
   "cell_type": "code",
   "execution_count": 8,
   "metadata": {},
   "outputs": [
    {
     "data": {
      "text/html": [
       "<div>\n",
       "<style scoped>\n",
       "    .dataframe tbody tr th:only-of-type {\n",
       "        vertical-align: middle;\n",
       "    }\n",
       "\n",
       "    .dataframe tbody tr th {\n",
       "        vertical-align: top;\n",
       "    }\n",
       "\n",
       "    .dataframe thead th {\n",
       "        text-align: right;\n",
       "    }\n",
       "</style>\n",
       "<table border=\"1\" class=\"dataframe\">\n",
       "  <thead>\n",
       "    <tr style=\"text-align: right;\">\n",
       "      <th></th>\n",
       "      <th>N</th>\n",
       "      <th>P</th>\n",
       "      <th>K</th>\n",
       "      <th>temperature</th>\n",
       "      <th>humidity</th>\n",
       "      <th>rainfall</th>\n",
       "      <th>label</th>\n",
       "    </tr>\n",
       "  </thead>\n",
       "  <tbody>\n",
       "    <tr>\n",
       "      <th>0</th>\n",
       "      <td>69</td>\n",
       "      <td>52</td>\n",
       "      <td>39</td>\n",
       "      <td>25.075635</td>\n",
       "      <td>84.342627</td>\n",
       "      <td>285.249365</td>\n",
       "      <td>Palay</td>\n",
       "    </tr>\n",
       "    <tr>\n",
       "      <th>1</th>\n",
       "      <td>66</td>\n",
       "      <td>55</td>\n",
       "      <td>39</td>\n",
       "      <td>26.359272</td>\n",
       "      <td>81.045548</td>\n",
       "      <td>298.401847</td>\n",
       "      <td>Palay</td>\n",
       "    </tr>\n",
       "    <tr>\n",
       "      <th>2</th>\n",
       "      <td>77</td>\n",
       "      <td>39</td>\n",
       "      <td>37</td>\n",
       "      <td>24.529227</td>\n",
       "      <td>87.327612</td>\n",
       "      <td>257.034355</td>\n",
       "      <td>Mais</td>\n",
       "    </tr>\n",
       "    <tr>\n",
       "      <th>3</th>\n",
       "      <td>88</td>\n",
       "      <td>44</td>\n",
       "      <td>36</td>\n",
       "      <td>20.775761</td>\n",
       "      <td>89.715033</td>\n",
       "      <td>248.718323</td>\n",
       "      <td>Palay</td>\n",
       "    </tr>\n",
       "    <tr>\n",
       "      <th>4</th>\n",
       "      <td>71</td>\n",
       "      <td>38</td>\n",
       "      <td>36</td>\n",
       "      <td>22.301574</td>\n",
       "      <td>83.248559</td>\n",
       "      <td>209.900198</td>\n",
       "      <td>Palay</td>\n",
       "    </tr>\n",
       "    <tr>\n",
       "      <th>...</th>\n",
       "      <td>...</td>\n",
       "      <td>...</td>\n",
       "      <td>...</td>\n",
       "      <td>...</td>\n",
       "      <td>...</td>\n",
       "      <td>...</td>\n",
       "      <td>...</td>\n",
       "    </tr>\n",
       "    <tr>\n",
       "      <th>632</th>\n",
       "      <td>91</td>\n",
       "      <td>53</td>\n",
       "      <td>36</td>\n",
       "      <td>20.060040</td>\n",
       "      <td>61.331862</td>\n",
       "      <td>45.365213</td>\n",
       "      <td>Palay</td>\n",
       "    </tr>\n",
       "    <tr>\n",
       "      <th>633</th>\n",
       "      <td>68</td>\n",
       "      <td>52</td>\n",
       "      <td>41</td>\n",
       "      <td>19.592210</td>\n",
       "      <td>63.465134</td>\n",
       "      <td>37.811240</td>\n",
       "      <td>Palay</td>\n",
       "    </tr>\n",
       "    <tr>\n",
       "      <th>634</th>\n",
       "      <td>87</td>\n",
       "      <td>58</td>\n",
       "      <td>40</td>\n",
       "      <td>29.770131</td>\n",
       "      <td>39.372526</td>\n",
       "      <td>48.802533</td>\n",
       "      <td>Palay</td>\n",
       "    </tr>\n",
       "    <tr>\n",
       "      <th>635</th>\n",
       "      <td>83</td>\n",
       "      <td>36</td>\n",
       "      <td>42</td>\n",
       "      <td>27.521354</td>\n",
       "      <td>56.013344</td>\n",
       "      <td>42.723744</td>\n",
       "      <td>Palay</td>\n",
       "    </tr>\n",
       "    <tr>\n",
       "      <th>636</th>\n",
       "      <td>64</td>\n",
       "      <td>48</td>\n",
       "      <td>36</td>\n",
       "      <td>25.628962</td>\n",
       "      <td>35.394540</td>\n",
       "      <td>45.402773</td>\n",
       "      <td>Palay</td>\n",
       "    </tr>\n",
       "  </tbody>\n",
       "</table>\n",
       "<p>637 rows × 7 columns</p>\n",
       "</div>"
      ],
      "text/plain": [
       "      N   P   K  temperature   humidity    rainfall  label\n",
       "0    69  52  39    25.075635  84.342627  285.249365  Palay\n",
       "1    66  55  39    26.359272  81.045548  298.401847  Palay\n",
       "2    77  39  37    24.529227  87.327612  257.034355   Mais\n",
       "3    88  44  36    20.775761  89.715033  248.718323  Palay\n",
       "4    71  38  36    22.301574  83.248559  209.900198  Palay\n",
       "..   ..  ..  ..          ...        ...         ...    ...\n",
       "632  91  53  36    20.060040  61.331862   45.365213  Palay\n",
       "633  68  52  41    19.592210  63.465134   37.811240  Palay\n",
       "634  87  58  40    29.770131  39.372526   48.802533  Palay\n",
       "635  83  36  42    27.521354  56.013344   42.723744  Palay\n",
       "636  64  48  36    25.628962  35.394540   45.402773  Palay\n",
       "\n",
       "[637 rows x 7 columns]"
      ]
     },
     "execution_count": 8,
     "metadata": {},
     "output_type": "execute_result"
    }
   ],
   "source": [
    "# Display Final Data\n",
    "cropRecommentationA2"
   ]
  },
  {
   "cell_type": "code",
   "execution_count": 9,
   "metadata": {},
   "outputs": [],
   "source": [
    "# Export Preprocessed Data\n",
    "cropRecommentationA2.to_csv(\"../../../preprocessedData/CropRecommentationApproach2.csv\")"
   ]
  }
 ],
 "metadata": {
  "kernelspec": {
   "display_name": "Python 3",
   "language": "python",
   "name": "python3"
  },
  "language_info": {
   "codemirror_mode": {
    "name": "ipython",
    "version": 3
   },
   "file_extension": ".py",
   "mimetype": "text/x-python",
   "name": "python",
   "nbconvert_exporter": "python",
   "pygments_lexer": "ipython3",
   "version": "3.9.0"
  },
  "orig_nbformat": 2
 },
 "nbformat": 4,
 "nbformat_minor": 2
}
